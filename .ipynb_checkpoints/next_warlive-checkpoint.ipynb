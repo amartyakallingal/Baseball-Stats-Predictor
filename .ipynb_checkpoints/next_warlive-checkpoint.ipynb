{
 "cells": [
  {
   "cell_type": "code",
   "execution_count": null,
   "id": "fa2a9432-ddf9-4f7c-8a21-c61dd432a69c",
   "metadata": {},
   "outputs": [],
   "source": [
    "import os\n",
    "import pandas as pd\n",
    "import numpy as np\n",
    "from pybaseball import batting_stats # Use this library to download the baseball stats"
   ]
  },
  {
   "cell_type": "code",
   "execution_count": null,
   "id": "ee090e31-40c5-4d46-bec4-efe62a15e0ea",
   "metadata": {},
   "outputs": [],
   "source": [
    "START = 2002\n",
    "END = 2022"
   ]
  },
  {
   "cell_type": "code",
   "execution_count": null,
   "id": "52bb8e43-d6f1-4144-861a-c1153c50e809",
   "metadata": {},
   "outputs": [],
   "source": [
    "batting = batting_stats(START, END, qual=200) # Qual determines how many minimum plate appearances a batter can have"
   ]
  },
  {
   "cell_type": "code",
   "execution_count": null,
   "id": "150de238-e8eb-4fa9-acda-fc47a45c1f83",
   "metadata": {},
   "outputs": [],
   "source": [
    "batting.to_csv(\"batting.csv\") # Store this batting data into a CSV file"
   ]
  },
  {
   "cell_type": "code",
   "execution_count": null,
   "id": "f82d30c3-75f7-430e-bd63-245b26106bea",
   "metadata": {},
   "outputs": [],
   "source": [
    "# Split batting data columns into groups for each player\n",
    "# Filter groups to only include a player's data group that has more than 1 season of data\n",
    "batting = batting.groupby(\"IDfg\", group_keys=False).filter(lambda x: x.shape[0] > 1)"
   ]
  },
  {
   "cell_type": "code",
   "execution_count": null,
   "id": "4de19101-5a03-46db-8a84-6f259d8017a9",
   "metadata": {},
   "outputs": [],
   "source": [
    "batting"
   ]
  },
  {
   "cell_type": "code",
   "execution_count": null,
   "id": "3317cb9f-6162-41e9-8f6c-48317c0c6ee5",
   "metadata": {},
   "outputs": [],
   "source": [
    "# Setting up ML target\n",
    "def next_season(player):\n",
    "    # Split data up by player and for each player, backfill WAR value for next season as target\n",
    "    player = player.sort_values(\"Season\")\n",
    "    player[\"Next_WAR\"] = player[\"WAR\"].shift(-1)\n",
    "    return player\n",
    "\n",
    "batting = batting.groupby(\"IDfg\", group_keys=False).apply(next_season)"
   ]
  },
  {
   "cell_type": "code",
   "execution_count": null,
   "id": "1b2f3d08-00cd-46af-aef7-8a2521d27b96",
   "metadata": {},
   "outputs": [],
   "source": [
    "batting[[\"Name\", \"Season\", \"WAR\", \"Next_WAR\"]]"
   ]
  },
  {
   "cell_type": "code",
   "execution_count": null,
   "id": "e9d7baeb-5b22-406c-86d2-fa0ee7ebf40c",
   "metadata": {},
   "outputs": [],
   "source": [
    "null_count = batting.isnull().sum()"
   ]
  },
  {
   "cell_type": "code",
   "execution_count": null,
   "id": "37ffdb15-9da9-4237-a952-a9b5a946e73f",
   "metadata": {},
   "outputs": [],
   "source": [
    "null_count"
   ]
  },
  {
   "cell_type": "code",
   "execution_count": null,
   "id": "106c6856-8d77-4352-9134-6c278fe867b2",
   "metadata": {},
   "outputs": [],
   "source": [
    "complete_cols = list(batting.columns[null_count == 0]) # Select columns without any missing values\n",
    "batting = batting[complete_cols + [\"Next_WAR\"]].copy() # Select all complete columns and \"Next_War\" column for batting"
   ]
  },
  {
   "cell_type": "code",
   "execution_count": null,
   "id": "bcee5e94-c1f4-4191-9ce9-23df2ae719a8",
   "metadata": {},
   "outputs": [],
   "source": [
    "batting"
   ]
  },
  {
   "cell_type": "code",
   "execution_count": null,
   "id": "e9f02ddf-dddf-4bb9-b339-bd4fd613c236",
   "metadata": {},
   "outputs": [],
   "source": [
    "batting.dtypes[batting.dtypes == \"object\"]"
   ]
  },
  {
   "cell_type": "code",
   "execution_count": null,
   "id": "cdb5ee38-d2a5-4596-b99f-6c8e1ecad64a",
   "metadata": {},
   "outputs": [],
   "source": [
    "# Delete unnecessary String type columns - only player name and team should remain\n",
    "del batting[\"Age Rng\"]\n",
    "del batting[\"Dol\"]"
   ]
  },
  {
   "cell_type": "code",
   "execution_count": null,
   "id": "5fe4252b-b172-4abd-a5fd-3db5fc97400e",
   "metadata": {},
   "outputs": [],
   "source": [
    "# Assign numbers to each 3-letter team name abbreviation\n",
    "batting[\"team_code\"] = batting[\"Team\"].astype(\"category\").cat.codes # Use pandas to categorically sort teams, and convert categories to a number"
   ]
  },
  {
   "cell_type": "code",
   "execution_count": null,
   "id": "febf27b7-11ef-419b-8d01-a10914a2e9b2",
   "metadata": {},
   "outputs": [],
   "source": [
    "# Make copy of batting data because we're dropping any rows where \"Next_WAR\" is empty but those rows could be useful in predicting future seasons\n",
    "batting_full = batting.copy()\n",
    "batting = batting.dropna()"
   ]
  },
  {
   "cell_type": "code",
   "execution_count": null,
   "id": "930df42c-0d14-4b55-8cc1-eb4bfc1ba70c",
   "metadata": {},
   "outputs": [],
   "source": [
    "# Going to run feature selection to optimize model's accuracy\n",
    "from sklearn.linear_model import Ridge # Ridge regression model\n",
    "from sklearn.feature_selector import SequentialFeatureSelector\n",
    "from sklearn.model_selector import TimeSeriesSplit\n",
    "\n",
    "rr = Ridge(alpha=1) # Set lambda coefficient to 1\n",
    "\n",
    "split = TimeSeriesSplit(n_split=3) # Split data into 3 parts and make predictions for each part in a time-series aware way\n"
   ]
  },
  {
   "cell_type": "code",
   "execution_count": null,
   "id": "c4b27d77-a5e6-47ae-b607-a6af2cbaa021",
   "metadata": {},
   "outputs": [],
   "source": []
  }
 ],
 "metadata": {
  "kernelspec": {
   "display_name": "Python 3 (ipykernel)",
   "language": "python",
   "name": "python3"
  },
  "language_info": {
   "codemirror_mode": {
    "name": "ipython",
    "version": 3
   },
   "file_extension": ".py",
   "mimetype": "text/x-python",
   "name": "python",
   "nbconvert_exporter": "python",
   "pygments_lexer": "ipython3",
   "version": "3.9.6"
  }
 },
 "nbformat": 4,
 "nbformat_minor": 5
}
